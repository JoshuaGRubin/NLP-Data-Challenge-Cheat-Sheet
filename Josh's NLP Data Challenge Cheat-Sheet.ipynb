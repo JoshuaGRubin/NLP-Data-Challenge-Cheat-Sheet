{
 "cells": [
  {
   "cell_type": "markdown",
   "metadata": {},
   "source": [
    "Josh Rubin – October, 2019\n",
    "\n",
    "## Introduction\n",
    "Even a simple NLP problem has a lot of steps and they need to be executed quickly and thoughtfully.  The purpose of this sheet is to provide a scaffold workflow with copy-and-paste syntax for the tools involved in order to maximize your time interacting intelligently with your interviewer. \n",
    "\n",
    "### Example workflow\n",
    "1. **Describe your approach** – make a short outline so that your interviewer knows what you're thinking and verify that it makes sense to them.\n",
    "1. **Load data** – this will typically be in a .csv or .json file.  I like to use Pandas for this.  Sometimes a dataset available in scikit-learn will be used.\n",
    "1. **Take a look** – Make a few histograms to get a look what classes are present and whether the data is balanced.\n",
    "1. **Vectorize** – Use a model to embed raw text into a vector space where you can use data science tools.\n",
    "    * TFIDF\n",
    "    * word2vec (to have access to pretrained embeddings, install `pip install spacy` (40MB) and `python -m spacy download en_core_web_md` (91MB))\n",
    "    * Universal Sentence Encoder, [BERT Embeddings](https://pypi.org/project/bert-embedding/) (`pip install bert-embedding` (might be big)) \n",
    "1. **Reduce dimensionality** - This is necessary for EDA/visualization and usually necessary for supervised modeling.  For data challenge problems, if you can't discriminate with your eyes in 2D, think about narrowing the scope of the problem (more specific classes?) before trying to model in higher dimensions.  If you do want to try to find subsequent gains, how much data do you have once it's balanced?  This tells you about how big a feature-vector you can support (i.e. the dimensionality).\n",
    "    * PCA\n",
    "    * tSNE (good for visualizing complex lower-dimensional structures in high dimensional space, but not useful for subsequent embedding - i.e. no reusable transform)\n",
    "    * UMAP (Neighbor embeddings like tSNE, but transform reusable and invertible.)   Find here: `pip umap-learn`\n",
    "1. **Take another look** – How does your embedded text look in scatter plots.  Is there any interesting structure?  Are there anomalies or outliers?  You can investigate these further.\n",
    "1. **Analyze**\n",
    "    * Supervised?  Model it.\n",
    "        - Start simple with linear or logistic regression (for continuous and categorical targets respectively.)\n",
    "        - Trees/forests\n",
    "        - Neural networks\n",
    "    * Unsupervised?  Find clusters.\n",
    "        - k-nearest neighbors\n",
    "1. **Evaluate**\n",
    "    * Confusion Matrix\n",
    "    * Precision, recall, F1\n",
    "    * Plot clusters\n",
    "    \n",
    "Finally, remember most of these commands have good doc strings with defaults and common configuration parameters.  e.g. `MLPClassifier?`"
   ]
  },
  {
   "cell_type": "code",
   "execution_count": 1,
   "metadata": {},
   "outputs": [],
   "source": [
    "import numpy as np\n",
    "import pandas as pd\n",
    "import matplotlib.pyplot as plt\n",
    "%matplotlib inline"
   ]
  },
  {
   "cell_type": "markdown",
   "metadata": {},
   "source": [
    "## Example Data\n",
    "\n",
    "[200K Jeopardy Questions]('https://www.reddit.com/r/datasets/comments/1uyd0t/200000_jeopardy_questions_in_a_json_file/')\n",
    "\n",
    "To download this, run the following:"
   ]
  },
  {
   "cell_type": "code",
   "execution_count": 2,
   "metadata": {},
   "outputs": [],
   "source": [
    "file = 'JEOPARDY_QUESTIONS1.json.gz'"
   ]
  },
  {
   "cell_type": "code",
   "execution_count": 3,
   "metadata": {},
   "outputs": [],
   "source": [
    "import urllib.request\n",
    "url  = 'http://skeeto.s3.amazonaws.com/share/JEOPARDY_QUESTIONS1.json.gz'\n",
    "urllib.request.urlretrieve(url, file);"
   ]
  },
  {
   "cell_type": "markdown",
   "metadata": {},
   "source": [
    "*alternatively:*\n",
    "\n",
    "(In case the above data becomes unavailable or it's more data than you want to download, I've downsampled 5000 questions and saved with this nodebook in GitHub (1MB).)\n",
    "\n",
    "``` python\n",
    "df = pd.read_json('JEOPARDY_QUESTIONS.json')\n",
    "df.sample(5000).to_json('5000_JEOPARDY_QUESTIONS.json')\n",
    "```"
   ]
  },
  {
   "cell_type": "code",
   "execution_count": null,
   "metadata": {},
   "outputs": [],
   "source": [
    "## Uncomment below if you want to use the small version\n",
    "# file = '5000_JEOPARDY_QUESTIONS.json'"
   ]
  },
  {
   "cell_type": "markdown",
   "metadata": {},
   "source": [
    "## Load and Manipulate Data\n",
    "\n",
    "Import data show head:"
   ]
  },
  {
   "cell_type": "code",
   "execution_count": 4,
   "metadata": {},
   "outputs": [
    {
     "data": {
      "text/html": [
       "<div>\n",
       "<style scoped>\n",
       "    .dataframe tbody tr th:only-of-type {\n",
       "        vertical-align: middle;\n",
       "    }\n",
       "\n",
       "    .dataframe tbody tr th {\n",
       "        vertical-align: top;\n",
       "    }\n",
       "\n",
       "    .dataframe thead th {\n",
       "        text-align: right;\n",
       "    }\n",
       "</style>\n",
       "<table border=\"1\" class=\"dataframe\">\n",
       "  <thead>\n",
       "    <tr style=\"text-align: right;\">\n",
       "      <th></th>\n",
       "      <th>air_date</th>\n",
       "      <th>answer</th>\n",
       "      <th>category</th>\n",
       "      <th>question</th>\n",
       "      <th>round</th>\n",
       "      <th>show_number</th>\n",
       "      <th>value</th>\n",
       "    </tr>\n",
       "  </thead>\n",
       "  <tbody>\n",
       "    <tr>\n",
       "      <th>0</th>\n",
       "      <td>2004-12-31</td>\n",
       "      <td>Copernicus</td>\n",
       "      <td>HISTORY</td>\n",
       "      <td>'For the last 8 years of his life, Galileo was...</td>\n",
       "      <td>Jeopardy!</td>\n",
       "      <td>4680</td>\n",
       "      <td>$200</td>\n",
       "    </tr>\n",
       "    <tr>\n",
       "      <th>1</th>\n",
       "      <td>2004-12-31</td>\n",
       "      <td>Jim Thorpe</td>\n",
       "      <td>ESPN's TOP 10 ALL-TIME ATHLETES</td>\n",
       "      <td>'No. 2: 1912 Olympian; football star at Carlis...</td>\n",
       "      <td>Jeopardy!</td>\n",
       "      <td>4680</td>\n",
       "      <td>$200</td>\n",
       "    </tr>\n",
       "    <tr>\n",
       "      <th>2</th>\n",
       "      <td>2004-12-31</td>\n",
       "      <td>Arizona</td>\n",
       "      <td>EVERYBODY TALKS ABOUT IT...</td>\n",
       "      <td>'The city of Yuma in this state has a record a...</td>\n",
       "      <td>Jeopardy!</td>\n",
       "      <td>4680</td>\n",
       "      <td>$200</td>\n",
       "    </tr>\n",
       "    <tr>\n",
       "      <th>3</th>\n",
       "      <td>2004-12-31</td>\n",
       "      <td>McDonald\\'s</td>\n",
       "      <td>THE COMPANY LINE</td>\n",
       "      <td>'In 1963, live on \"The Art Linkletter Show\", t...</td>\n",
       "      <td>Jeopardy!</td>\n",
       "      <td>4680</td>\n",
       "      <td>$200</td>\n",
       "    </tr>\n",
       "    <tr>\n",
       "      <th>4</th>\n",
       "      <td>2004-12-31</td>\n",
       "      <td>John Adams</td>\n",
       "      <td>EPITAPHS &amp; TRIBUTES</td>\n",
       "      <td>'Signer of the Dec. of Indep., framer of the C...</td>\n",
       "      <td>Jeopardy!</td>\n",
       "      <td>4680</td>\n",
       "      <td>$200</td>\n",
       "    </tr>\n",
       "  </tbody>\n",
       "</table>\n",
       "</div>"
      ],
      "text/plain": [
       "     air_date       answer                         category  \\\n",
       "0  2004-12-31   Copernicus                          HISTORY   \n",
       "1  2004-12-31   Jim Thorpe  ESPN's TOP 10 ALL-TIME ATHLETES   \n",
       "2  2004-12-31      Arizona      EVERYBODY TALKS ABOUT IT...   \n",
       "3  2004-12-31  McDonald\\'s                 THE COMPANY LINE   \n",
       "4  2004-12-31   John Adams              EPITAPHS & TRIBUTES   \n",
       "\n",
       "                                            question      round  show_number  \\\n",
       "0  'For the last 8 years of his life, Galileo was...  Jeopardy!         4680   \n",
       "1  'No. 2: 1912 Olympian; football star at Carlis...  Jeopardy!         4680   \n",
       "2  'The city of Yuma in this state has a record a...  Jeopardy!         4680   \n",
       "3  'In 1963, live on \"The Art Linkletter Show\", t...  Jeopardy!         4680   \n",
       "4  'Signer of the Dec. of Indep., framer of the C...  Jeopardy!         4680   \n",
       "\n",
       "  value  \n",
       "0  $200  \n",
       "1  $200  \n",
       "2  $200  \n",
       "3  $200  \n",
       "4  $200  "
      ]
     },
     "execution_count": 4,
     "metadata": {},
     "output_type": "execute_result"
    }
   ],
   "source": [
    "## CSV\n",
    "# pandas.read_csv(file_path, nrows=)\n",
    "\n",
    "## JSON\n",
    "df = pd.read_json(file)  \n",
    "\n",
    "df.head()"
   ]
  },
  {
   "cell_type": "markdown",
   "metadata": {},
   "source": [
    "Sampling and selection:"
   ]
  },
  {
   "cell_type": "code",
   "execution_count": 5,
   "metadata": {},
   "outputs": [
    {
     "data": {
      "text/html": [
       "<div>\n",
       "<style scoped>\n",
       "    .dataframe tbody tr th:only-of-type {\n",
       "        vertical-align: middle;\n",
       "    }\n",
       "\n",
       "    .dataframe tbody tr th {\n",
       "        vertical-align: top;\n",
       "    }\n",
       "\n",
       "    .dataframe thead th {\n",
       "        text-align: right;\n",
       "    }\n",
       "</style>\n",
       "<table border=\"1\" class=\"dataframe\">\n",
       "  <thead>\n",
       "    <tr style=\"text-align: right;\">\n",
       "      <th></th>\n",
       "      <th>air_date</th>\n",
       "      <th>answer</th>\n",
       "      <th>category</th>\n",
       "      <th>question</th>\n",
       "      <th>round</th>\n",
       "      <th>show_number</th>\n",
       "      <th>value</th>\n",
       "    </tr>\n",
       "  </thead>\n",
       "  <tbody>\n",
       "    <tr>\n",
       "      <th>16792</th>\n",
       "      <td>1998-12-11</td>\n",
       "      <td>Super Chicken</td>\n",
       "      <td>TV THEME SONGS</td>\n",
       "      <td>'\"When it looks like you will take a lickin'.....</td>\n",
       "      <td>Jeopardy!</td>\n",
       "      <td>3285</td>\n",
       "      <td>$500</td>\n",
       "    </tr>\n",
       "    <tr>\n",
       "      <th>22860</th>\n",
       "      <td>1997-06-25</td>\n",
       "      <td>Free admission</td>\n",
       "      <td>FOREIGN WORDS &amp; PHRASES</td>\n",
       "      <td>'When sightsseing in France, you should know t...</td>\n",
       "      <td>Jeopardy!</td>\n",
       "      <td>2968</td>\n",
       "      <td>$200</td>\n",
       "    </tr>\n",
       "  </tbody>\n",
       "</table>\n",
       "</div>"
      ],
      "text/plain": [
       "         air_date          answer                 category  \\\n",
       "16792  1998-12-11   Super Chicken           TV THEME SONGS   \n",
       "22860  1997-06-25  Free admission  FOREIGN WORDS & PHRASES   \n",
       "\n",
       "                                                question      round  \\\n",
       "16792  '\"When it looks like you will take a lickin'.....  Jeopardy!   \n",
       "22860  'When sightsseing in France, you should know t...  Jeopardy!   \n",
       "\n",
       "       show_number value  \n",
       "16792         3285  $500  \n",
       "22860         2968  $200  "
      ]
     },
     "execution_count": 5,
     "metadata": {},
     "output_type": "execute_result"
    }
   ],
   "source": [
    "# Select n samples at random\n",
    "df.sample(2)\n",
    "\n",
    "# Retrieve a specific range of indices\n",
    "# df.iloc[1:25]"
   ]
  },
  {
   "cell_type": "markdown",
   "metadata": {},
   "source": [
    "Use apply to overwrite or create dataframe rows for data cleaning or modification via lambda functions:"
   ]
  },
  {
   "cell_type": "code",
   "execution_count": 6,
   "metadata": {},
   "outputs": [
    {
     "data": {
      "text/html": [
       "<div>\n",
       "<style scoped>\n",
       "    .dataframe tbody tr th:only-of-type {\n",
       "        vertical-align: middle;\n",
       "    }\n",
       "\n",
       "    .dataframe tbody tr th {\n",
       "        vertical-align: top;\n",
       "    }\n",
       "\n",
       "    .dataframe thead th {\n",
       "        text-align: right;\n",
       "    }\n",
       "</style>\n",
       "<table border=\"1\" class=\"dataframe\">\n",
       "  <thead>\n",
       "    <tr style=\"text-align: right;\">\n",
       "      <th></th>\n",
       "      <th>question</th>\n",
       "      <th>value</th>\n",
       "      <th>question_processed</th>\n",
       "      <th>value_int</th>\n",
       "    </tr>\n",
       "  </thead>\n",
       "  <tbody>\n",
       "    <tr>\n",
       "      <th>0</th>\n",
       "      <td>'For the last 8 years of his life, Galileo was...</td>\n",
       "      <td>$200</td>\n",
       "      <td>for the last 8 years of his life, galileo was ...</td>\n",
       "      <td>200</td>\n",
       "    </tr>\n",
       "    <tr>\n",
       "      <th>1</th>\n",
       "      <td>'No. 2: 1912 Olympian; football star at Carlis...</td>\n",
       "      <td>$200</td>\n",
       "      <td>no. 2: 1912 olympian; football star at carlisl...</td>\n",
       "      <td>200</td>\n",
       "    </tr>\n",
       "  </tbody>\n",
       "</table>\n",
       "</div>"
      ],
      "text/plain": [
       "                                            question value  \\\n",
       "0  'For the last 8 years of his life, Galileo was...  $200   \n",
       "1  'No. 2: 1912 Olympian; football star at Carlis...  $200   \n",
       "\n",
       "                                  question_processed  value_int  \n",
       "0  for the last 8 years of his life, galileo was ...        200  \n",
       "1  no. 2: 1912 olympian; football star at carlisl...        200  "
      ]
     },
     "execution_count": 6,
     "metadata": {},
     "output_type": "execute_result"
    }
   ],
   "source": [
    "# Create a column with integer question values rather than strings\n",
    "# (remove dollar signs, commas, and if None, return 0):\n",
    "\n",
    "df['value_int'] = df['value'].apply(lambda x: int(x[1:].replace(',','')) if x else 0)\n",
    "\n",
    "# Shift questions to lower case and drop leading and trailing quotes:\n",
    "\n",
    "df['question_processed'] = df['question'].apply(lambda x: x[1:-1].lower())\n",
    "\n",
    "df.head(2)[['question','value','question_processed','value_int']]"
   ]
  },
  {
   "cell_type": "code",
   "execution_count": 7,
   "metadata": {},
   "outputs": [
    {
     "data": {
      "text/html": [
       "<div>\n",
       "<style scoped>\n",
       "    .dataframe tbody tr th:only-of-type {\n",
       "        vertical-align: middle;\n",
       "    }\n",
       "\n",
       "    .dataframe tbody tr th {\n",
       "        vertical-align: top;\n",
       "    }\n",
       "\n",
       "    .dataframe thead th {\n",
       "        text-align: right;\n",
       "    }\n",
       "</style>\n",
       "<table border=\"1\" class=\"dataframe\">\n",
       "  <thead>\n",
       "    <tr style=\"text-align: right;\">\n",
       "      <th></th>\n",
       "      <th>show_number</th>\n",
       "      <th>value_int</th>\n",
       "    </tr>\n",
       "  </thead>\n",
       "  <tbody>\n",
       "    <tr>\n",
       "      <th>count</th>\n",
       "      <td>216930.000000</td>\n",
       "      <td>216930.000000</td>\n",
       "    </tr>\n",
       "    <tr>\n",
       "      <th>mean</th>\n",
       "      <td>4264.238519</td>\n",
       "      <td>739.988476</td>\n",
       "    </tr>\n",
       "    <tr>\n",
       "      <th>std</th>\n",
       "      <td>1386.296335</td>\n",
       "      <td>639.822693</td>\n",
       "    </tr>\n",
       "    <tr>\n",
       "      <th>min</th>\n",
       "      <td>1.000000</td>\n",
       "      <td>0.000000</td>\n",
       "    </tr>\n",
       "    <tr>\n",
       "      <th>25%</th>\n",
       "      <td>3349.000000</td>\n",
       "      <td>400.000000</td>\n",
       "    </tr>\n",
       "    <tr>\n",
       "      <th>50%</th>\n",
       "      <td>4490.000000</td>\n",
       "      <td>600.000000</td>\n",
       "    </tr>\n",
       "    <tr>\n",
       "      <th>75%</th>\n",
       "      <td>5393.000000</td>\n",
       "      <td>1000.000000</td>\n",
       "    </tr>\n",
       "    <tr>\n",
       "      <th>max</th>\n",
       "      <td>6300.000000</td>\n",
       "      <td>18000.000000</td>\n",
       "    </tr>\n",
       "  </tbody>\n",
       "</table>\n",
       "</div>"
      ],
      "text/plain": [
       "         show_number      value_int\n",
       "count  216930.000000  216930.000000\n",
       "mean     4264.238519     739.988476\n",
       "std      1386.296335     639.822693\n",
       "min         1.000000       0.000000\n",
       "25%      3349.000000     400.000000\n",
       "50%      4490.000000     600.000000\n",
       "75%      5393.000000    1000.000000\n",
       "max      6300.000000   18000.000000"
      ]
     },
     "execution_count": 7,
     "metadata": {},
     "output_type": "execute_result"
    }
   ],
   "source": [
    "# Describe data\n",
    "df.describe()"
   ]
  },
  {
   "cell_type": "code",
   "execution_count": 8,
   "metadata": {},
   "outputs": [
    {
     "data": {
      "text/html": [
       "<div>\n",
       "<style scoped>\n",
       "    .dataframe tbody tr th:only-of-type {\n",
       "        vertical-align: middle;\n",
       "    }\n",
       "\n",
       "    .dataframe tbody tr th {\n",
       "        vertical-align: top;\n",
       "    }\n",
       "\n",
       "    .dataframe thead tr th {\n",
       "        text-align: left;\n",
       "    }\n",
       "\n",
       "    .dataframe thead tr:last-of-type th {\n",
       "        text-align: right;\n",
       "    }\n",
       "</style>\n",
       "<table border=\"1\" class=\"dataframe\">\n",
       "  <thead>\n",
       "    <tr>\n",
       "      <th></th>\n",
       "      <th colspan=\"8\" halign=\"left\">show_number</th>\n",
       "      <th colspan=\"8\" halign=\"left\">value_int</th>\n",
       "    </tr>\n",
       "    <tr>\n",
       "      <th></th>\n",
       "      <th>count</th>\n",
       "      <th>mean</th>\n",
       "      <th>std</th>\n",
       "      <th>min</th>\n",
       "      <th>25%</th>\n",
       "      <th>50%</th>\n",
       "      <th>75%</th>\n",
       "      <th>max</th>\n",
       "      <th>count</th>\n",
       "      <th>mean</th>\n",
       "      <th>std</th>\n",
       "      <th>min</th>\n",
       "      <th>25%</th>\n",
       "      <th>50%</th>\n",
       "      <th>75%</th>\n",
       "      <th>max</th>\n",
       "    </tr>\n",
       "    <tr>\n",
       "      <th>round</th>\n",
       "      <th></th>\n",
       "      <th></th>\n",
       "      <th></th>\n",
       "      <th></th>\n",
       "      <th></th>\n",
       "      <th></th>\n",
       "      <th></th>\n",
       "      <th></th>\n",
       "      <th></th>\n",
       "      <th></th>\n",
       "      <th></th>\n",
       "      <th></th>\n",
       "      <th></th>\n",
       "      <th></th>\n",
       "      <th></th>\n",
       "      <th></th>\n",
       "    </tr>\n",
       "  </thead>\n",
       "  <tbody>\n",
       "    <tr>\n",
       "      <th>Double Jeopardy!</th>\n",
       "      <td>105912.0</td>\n",
       "      <td>4264.161644</td>\n",
       "      <td>1387.287091</td>\n",
       "      <td>1.0</td>\n",
       "      <td>3348.0</td>\n",
       "      <td>4492.0</td>\n",
       "      <td>5393.25</td>\n",
       "      <td>6298.0</td>\n",
       "      <td>105912.0</td>\n",
       "      <td>1017.291742</td>\n",
       "      <td>755.440606</td>\n",
       "      <td>5.0</td>\n",
       "      <td>400.0</td>\n",
       "      <td>800.0</td>\n",
       "      <td>1500.0</td>\n",
       "      <td>18000.0</td>\n",
       "    </tr>\n",
       "    <tr>\n",
       "      <th>Final Jeopardy!</th>\n",
       "      <td>3631.0</td>\n",
       "      <td>4253.917929</td>\n",
       "      <td>1395.089657</td>\n",
       "      <td>1.0</td>\n",
       "      <td>3340.5</td>\n",
       "      <td>4471.0</td>\n",
       "      <td>5388.50</td>\n",
       "      <td>6298.0</td>\n",
       "      <td>3631.0</td>\n",
       "      <td>0.000000</td>\n",
       "      <td>0.000000</td>\n",
       "      <td>0.0</td>\n",
       "      <td>0.0</td>\n",
       "      <td>0.0</td>\n",
       "      <td>0.0</td>\n",
       "      <td>0.0</td>\n",
       "    </tr>\n",
       "    <tr>\n",
       "      <th>Jeopardy!</th>\n",
       "      <td>107384.0</td>\n",
       "      <td>4264.666757</td>\n",
       "      <td>1385.041201</td>\n",
       "      <td>1.0</td>\n",
       "      <td>3350.0</td>\n",
       "      <td>4488.5</td>\n",
       "      <td>5393.00</td>\n",
       "      <td>6300.0</td>\n",
       "      <td>107384.0</td>\n",
       "      <td>491.528505</td>\n",
       "      <td>328.659267</td>\n",
       "      <td>5.0</td>\n",
       "      <td>200.0</td>\n",
       "      <td>400.0</td>\n",
       "      <td>600.0</td>\n",
       "      <td>6600.0</td>\n",
       "    </tr>\n",
       "    <tr>\n",
       "      <th>Tiebreaker</th>\n",
       "      <td>3.0</td>\n",
       "      <td>4141.000000</td>\n",
       "      <td>1195.525408</td>\n",
       "      <td>2941.0</td>\n",
       "      <td>3545.5</td>\n",
       "      <td>4150.0</td>\n",
       "      <td>4741.00</td>\n",
       "      <td>5332.0</td>\n",
       "      <td>3.0</td>\n",
       "      <td>0.000000</td>\n",
       "      <td>0.000000</td>\n",
       "      <td>0.0</td>\n",
       "      <td>0.0</td>\n",
       "      <td>0.0</td>\n",
       "      <td>0.0</td>\n",
       "      <td>0.0</td>\n",
       "    </tr>\n",
       "  </tbody>\n",
       "</table>\n",
       "</div>"
      ],
      "text/plain": [
       "                 show_number                                            \\\n",
       "                       count         mean          std     min     25%   \n",
       "round                                                                    \n",
       "Double Jeopardy!    105912.0  4264.161644  1387.287091     1.0  3348.0   \n",
       "Final Jeopardy!       3631.0  4253.917929  1395.089657     1.0  3340.5   \n",
       "Jeopardy!           107384.0  4264.666757  1385.041201     1.0  3350.0   \n",
       "Tiebreaker               3.0  4141.000000  1195.525408  2941.0  3545.5   \n",
       "\n",
       "                                          value_int                           \\\n",
       "                     50%      75%     max     count         mean         std   \n",
       "round                                                                          \n",
       "Double Jeopardy!  4492.0  5393.25  6298.0  105912.0  1017.291742  755.440606   \n",
       "Final Jeopardy!   4471.0  5388.50  6298.0    3631.0     0.000000    0.000000   \n",
       "Jeopardy!         4488.5  5393.00  6300.0  107384.0   491.528505  328.659267   \n",
       "Tiebreaker        4150.0  4741.00  5332.0       3.0     0.000000    0.000000   \n",
       "\n",
       "                                                      \n",
       "                  min    25%    50%     75%      max  \n",
       "round                                                 \n",
       "Double Jeopardy!  5.0  400.0  800.0  1500.0  18000.0  \n",
       "Final Jeopardy!   0.0    0.0    0.0     0.0      0.0  \n",
       "Jeopardy!         5.0  200.0  400.0   600.0   6600.0  \n",
       "Tiebreaker        0.0    0.0    0.0     0.0      0.0  "
      ]
     },
     "execution_count": 8,
     "metadata": {},
     "output_type": "execute_result"
    }
   ],
   "source": [
    "# Describe set grouped by categories\n",
    "df.groupby('round').describe()"
   ]
  },
  {
   "cell_type": "code",
   "execution_count": 9,
   "metadata": {},
   "outputs": [
    {
     "data": {
      "image/png": "[encoded data removed]",
      "text/plain": [
       "<Figure size 432x288 with 1 Axes>"
      ]
     },
     "metadata": {
      "needs_background": "light"
     },
     "output_type": "display_data"
    }
   ],
   "source": [
    "def pandas_counts(df, col):\n",
    "    return (list(df.groupby(col).count()[df.columns[0]].index),\n",
    "            list(df.groupby(col).count()[df.columns[0]].to_list()))\n",
    "\n",
    "plt.plot(*pandas_counts(df, 'round'))\n",
    "plt.yscale('log')"
   ]
  },
  {
   "cell_type": "markdown",
   "metadata": {},
   "source": [
    "## NLP Feature Extraction\n",
    "\n",
    "[TFIDF](https://scikit-learn.org/stable/modules/generated/sklearn.feature_extraction.text.TfidfVectorizer.html)"
   ]
  },
  {
   "cell_type": "code",
   "execution_count": 10,
   "metadata": {},
   "outputs": [
    {
     "name": "stdout",
     "output_type": "stream",
     "text": [
      "['writing', 'written', 'wrote', 'wwii', 'www', 'year', 'years', 'yellow', 'york', 'young']\n",
      "(216930, 1000)\n"
     ]
    }
   ],
   "source": [
    "from sklearn.feature_extraction.text import TfidfVectorizer\n",
    "vectorizer = TfidfVectorizer(max_features=1000, stop_words='english')\n",
    "TFIDF = np.asarray(vectorizer.fit_transform(df['question_processed']).todense())\n",
    "print(vectorizer.get_feature_names()[-10:])\n",
    "print(TFIDF.shape)"
   ]
  },
  {
   "cell_type": "markdown",
   "metadata": {},
   "source": [
    "[word2vec using spaCy](https://spacy.io/usage/vectors-similarity) – pretrained word and document embedding vectors.\n",
    "\n",
    "Pretrained word2vec and averaged word2vec (over a document)."
   ]
  },
  {
   "cell_type": "code",
   "execution_count": 11,
   "metadata": {},
   "outputs": [],
   "source": [
    "import spacy\n",
    "nlp = spacy.load('en_core_web_md')"
   ]
  },
  {
   "cell_type": "code",
   "execution_count": 12,
   "metadata": {},
   "outputs": [
    {
     "name": "stdout",
     "output_type": "stream",
     "text": [
      "the city of yuma in this state has a record average of 4,055 hours of sunshine each year\n",
      "[ 0.06046849  0.21475472  0.0735155  -0.08993094  0.09578883]\n",
      "Length of embedding vector: 300\n"
     ]
    }
   ],
   "source": [
    "out = nlp(df.iloc[2]['question_processed'])\n",
    "print(out)\n",
    "print(out.vector[:5])\n",
    "print(f'Length of embedding vector: {len(out.vector)}')"
   ]
  },
  {
   "cell_type": "code",
   "execution_count": null,
   "metadata": {},
   "outputs": [],
   "source": [
    "# This takes some time...\n",
    "df['embedding'] = df['question_processed'].apply(lambda x: nlp(x).vector)"
   ]
  },
  {
   "cell_type": "markdown",
   "metadata": {},
   "source": [
    "## Dimensionality Reduction\n",
    "\n",
    "[PCA (Principal Component Analysis)](https://scikit-learn.org/stable/modules/generated/sklearn.decomposition.PCA.html)"
   ]
  },
  {
   "cell_type": "code",
   "execution_count": 14,
   "metadata": {},
   "outputs": [
    {
     "data": {
      "image/png": "[encoded data removed]",
      "text/plain": [
       "<Figure size 432x288 with 1 Axes>"
      ]
     },
     "metadata": {
      "needs_background": "light"
     },
     "output_type": "display_data"
    }
   ],
   "source": [
    "from sklearn.decomposition import PCA\n",
    "\n",
    "pca = PCA(n_components=2)\n",
    "pca_TFIDF = pca.fit_transform(TFIDF)\n",
    "#pca.inverse_transform(pca.transform(X[8:]))\n",
    "\n",
    "small = pca_TFIDF[:1000]\n",
    "plt.plot(small[:,0],small[:,1],'+');"
   ]
  },
  {
   "cell_type": "markdown",
   "metadata": {},
   "source": [
    "[tSNE (t-distributed Stochastic Neighbor Embedding)](https://scikit-learn.org/stable/modules/generated/sklearn.manifold.TSNE.html)"
   ]
  },
  {
   "cell_type": "code",
   "execution_count": 15,
   "metadata": {},
   "outputs": [
    {
     "data": {
      "image/png": "[encoded data removed]",
      "text/plain": [
       "<Figure size 432x288 with 1 Axes>"
      ]
     },
     "metadata": {
      "needs_background": "light"
     },
     "output_type": "display_data"
    }
   ],
   "source": [
    "from sklearn.manifold import TSNE\n",
    "tsne_TFIDF = TSNE(n_components=2).fit_transform(TFIDF[:1000])\n",
    "\n",
    "plt.plot(tsne_TFIDF[:,0],tsne_TFIDF[:,1],'+');"
   ]
  },
  {
   "cell_type": "markdown",
   "metadata": {},
   "source": [
    "[UMAP (Uniform Manifold Approximation and Projection)](https://umap-learn.readthedocs.io/en/latest/basic_usage.html) \n",
    "\n",
    "Install with `pip install umap-learn`"
   ]
  },
  {
   "cell_type": "code",
   "execution_count": 30,
   "metadata": {},
   "outputs": [
    {
     "data": {
      "image/png": "[encoded data removed]",
      "text/plain": [
       "<Figure size 432x288 with 1 Axes>"
      ]
     },
     "metadata": {
      "needs_background": "light"
     },
     "output_type": "display_data"
    }
   ],
   "source": [
    "import umap\n",
    "reducer = umap.UMAP(n_neighbors = 15) # n_components=2, n_neighbors=15,\n",
    "umap_TFIDF = reducer.fit_transform(TFIDF[:3000]) \n",
    "#reducer.transform(X) \n",
    "\n",
    "plt.plot(umap_TFIDF[:,0],umap_TFIDF[:,1],'+');"
   ]
  },
  {
   "cell_type": "markdown",
   "metadata": {},
   "source": [
    "## Modeling\n",
    "[Logistic Regression](https://scikit-learn.org/stable/modules/generated/sklearn.linear_model.LogisticRegression.html)"
   ]
  },
  {
   "cell_type": "code",
   "execution_count": null,
   "metadata": {},
   "outputs": [],
   "source": [
    "from sklearn.linear_model import LogisticRegression\n",
    "clf = LogisticRegression(random_state=0, solver='lbfgs', multi_class='multinomial').fit(X, y)\n",
    "clf.predict(X[:2, :])\n",
    "clf.predict_proba(X[:2, :]) \n",
    "clf.score(X, y)"
   ]
  },
  {
   "cell_type": "markdown",
   "metadata": {},
   "source": [
    "[Linear Regression](https://scikit-learn.org/stable/modules/generated/sklearn.linear_model.LinearRegression.html)"
   ]
  },
  {
   "cell_type": "code",
   "execution_count": null,
   "metadata": {},
   "outputs": [],
   "source": [
    "from sklearn.linear_model import LinearRegression\n",
    "X = np.array([[1, 1], [1, 2], [2, 2], [2, 3]])\n",
    "# y = 1 * x_0 + 2 * x_1 + 3\n",
    "y = np.dot(X, np.array([1, 2])) + 3\n",
    "reg = LinearRegression().fit(X, y)\n",
    "reg.score(X, y)\n",
    "reg.coef_\n",
    "reg.intercept_ \n",
    "reg.predict(np.array([[3, 5]]))"
   ]
  },
  {
   "cell_type": "markdown",
   "metadata": {},
   "source": [
    "[Random Forest Classifier](https://scikit-learn.org/stable/modules/generated/sklearn.ensemble.RandomForestClassifier.html)"
   ]
  },
  {
   "cell_type": "code",
   "execution_count": null,
   "metadata": {},
   "outputs": [],
   "source": [
    "from sklearn.ensemble import RandomForestClassifier\n",
    "\n",
    "clf = RandomForestClassifier(n_estimators=200, max_depth=5) # Better settings to prevent overfitting in NLP\n",
    "clf.fit(X_train, y_train)  \n",
    "\n",
    "y_predict = clf.predict(X_test)"
   ]
  },
  {
   "cell_type": "markdown",
   "metadata": {},
   "source": [
    "[MLPRegressor (Multilayer Perceptron Regressor)](https://scikit-learn.org/stable/modules/generated/sklearn.neural_network.MLPRegressor.html)\n",
    "\n",
    "[MLPClassifier (Multilayer Perceptron Classifier)](https://scikit-learn.org/stable/modules/generated/sklearn.neural_network.MLPClassifier.html#sklearn.neural_network.MLPClassifier)"
   ]
  },
  {
   "cell_type": "code",
   "execution_count": null,
   "metadata": {},
   "outputs": [],
   "source": [
    "from sklearn.neural_network import MLPClassifier"
   ]
  },
  {
   "cell_type": "code",
   "execution_count": null,
   "metadata": {},
   "outputs": [],
   "source": [
    "MLPClassifier?"
   ]
  },
  {
   "cell_type": "markdown",
   "metadata": {},
   "source": [
    "### Data Utilities\n",
    "[Train Test Split](https://scikit-learn.org/stable/modules/generated/sklearn.model_selection.train_test_split.html)"
   ]
  },
  {
   "cell_type": "code",
   "execution_count": null,
   "metadata": {},
   "outputs": [],
   "source": [
    "from sklearn.model_selection import train_test_split\n",
    "## Works on numpy arrays\n",
    "# X_train, X_test, y_train, y_test = train_test_split(X, y, test_size=0.33, random_state=42)\n",
    "\n",
    "## Also works directly on pandas dataframes and retruns dataframes\n",
    "X_train, X_test, y_train, y_test = train_test_split(df['show_number'], df['value'], test_size=0.33, random_state=42)"
   ]
  },
  {
   "cell_type": "markdown",
   "metadata": {},
   "source": [
    "[Standardize (Normalize) feature vector](https://scikit-learn.org/stable/modules/generated/sklearn.preprocessing.StandardScaler.html#sklearn.preprocessing.StandardScaler)"
   ]
  },
  {
   "cell_type": "code",
   "execution_count": 20,
   "metadata": {},
   "outputs": [
    {
     "name": "stdout",
     "output_type": "stream",
     "text": [
      "StandardScaler(copy=True, with_mean=True, with_std=True)\n",
      "[0.5 0.5]\n",
      "[[-1. -1.]\n",
      " [-1. -1.]\n",
      " [ 1.  1.]\n",
      " [ 1.  1.]]\n",
      "[[3. 3.]]\n"
     ]
    }
   ],
   "source": [
    ">>> from sklearn.preprocessing import StandardScaler\n",
    ">>> data = [[0, 0], [0, 0], [1, 1], [1, 1]]\n",
    ">>> scaler = StandardScaler()\n",
    ">>> print(scaler.fit(data))\n",
    ">>> print(scaler.mean_)\n",
    ">>> print(scaler.transform(data))\n",
    ">>> print(scaler.transform([[2, 2]]))\n"
   ]
  },
  {
   "cell_type": "markdown",
   "metadata": {},
   "source": [
    "[Confusion Matrix](https://scikit-learn.org/stable/modules/generated/sklearn.metrics.confusion_matrix.html)"
   ]
  },
  {
   "cell_type": "code",
   "execution_count": 22,
   "metadata": {},
   "outputs": [
    {
     "data": {
      "text/plain": [
       "array([[2, 0, 0],\n",
       "       [0, 0, 1],\n",
       "       [1, 0, 2]])"
      ]
     },
     "execution_count": 22,
     "metadata": {},
     "output_type": "execute_result"
    }
   ],
   "source": [
    "from sklearn.metrics import confusion_matrix\n",
    "y_true = [2, 0, 2, 2, 0, 1]\n",
    "y_pred = [0, 0, 2, 2, 0, 2]\n",
    "confusion_matrix(y_true, y_pred)\n",
    "\n",
    "y_true = [\"cat\", \"ant\", \"cat\", \"cat\", \"ant\", \"bird\"]\n",
    "y_pred = [\"ant\", \"ant\", \"cat\", \"cat\", \"ant\", \"cat\"]\n",
    "confusion_matrix(y_true, y_pred, labels=[\"ant\", \"bird\", \"cat\"])"
   ]
  },
  {
   "cell_type": "markdown",
   "metadata": {},
   "source": [
    "[Classification Report](https://scikit-learn.org/stable/modules/generated/sklearn.metrics.classification_report.html)"
   ]
  },
  {
   "cell_type": "code",
   "execution_count": null,
   "metadata": {},
   "outputs": [],
   "source": [
    "from sklearn.metrics import classification_report\n",
    "y_true = [0, 1, 2, 2, 2]\n",
    "y_pred = [0, 0, 2, 2, 1]\n",
    "target_names = ['class 0', 'class 1', 'class 2']\n",
    "print(classification_report(y_true, y_pred, target_names=target_names))\n",
    "#               precision    recall  f1-score   support\n",
    "\n",
    "#      class 0       0.50      1.00      0.67         1\n",
    "#      class 1       0.00      0.00      0.00         1\n",
    "#      class 2       1.00      0.67      0.80         3\n",
    "\n",
    "#     accuracy                           0.60         5\n",
    "#    macro avg       0.50      0.56      0.49         5\n",
    "# weighted avg       0.70      0.60      0.61         5\n",
    "\n",
    "y_pred = [1, 1, 0]\n",
    "y_true = [1, 1, 1]\n",
    "print(classification_report(y_true, y_pred, labels=[1, 2, 3]))\n",
    "#               precision    recall  f1-score   support\n",
    "\n",
    "#            1       1.00      0.67      0.80         3\n",
    "#            2       0.00      0.00      0.00         0\n",
    "#            3       0.00      0.00      0.00         0\n",
    "\n",
    "#    micro avg       1.00      0.67      0.80         3\n",
    "#    macro avg       0.33      0.22      0.27         3\n",
    "# weighted avg       1.00      0.67      0.80         3"
   ]
  },
  {
   "cell_type": "markdown",
   "metadata": {},
   "source": [
    "### Plotting"
   ]
  },
  {
   "cell_type": "code",
   "execution_count": null,
   "metadata": {},
   "outputs": [],
   "source": [
    "plt.plot(x[:,0],x[:,1],'+')\n",
    "plt.xlim(-0.2,0.1)\n",
    "plt.ylim(-0.06,0)"
   ]
  }
 ],
 "metadata": {
  "kernelspec": {
   "display_name": "Python 3",
   "language": "python",
   "name": "python3"
  },
  "language_info": {
   "codemirror_mode": {
    "name": "ipython",
    "version": 3
   },
   "file_extension": ".py",
   "mimetype": "text/x-python",
   "name": "python",
   "nbconvert_exporter": "python",
   "pygments_lexer": "ipython3",
   "version": "3.7.3"
  }
 },
 "nbformat": 4,
 "nbformat_minor": 2
}
